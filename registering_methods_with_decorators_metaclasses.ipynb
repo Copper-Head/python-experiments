{
 "cells": [
  {
   "cell_type": "markdown",
   "metadata": {},
   "source": [
    "## Mark a function"
   ]
  },
  {
   "cell_type": "code",
   "execution_count": 1,
   "metadata": {},
   "outputs": [],
   "source": [
    "def shared_slot(name):\n",
    "    def inner(func):\n",
    "        func.shared_slot = name\n",
    "        return func\n",
    "    return inner"
   ]
  },
  {
   "cell_type": "markdown",
   "metadata": {},
   "source": [
    "## Inspect markings in metaclass"
   ]
  },
  {
   "cell_type": "code",
   "execution_count": 2,
   "metadata": {},
   "outputs": [
    {
     "name": "stdout",
     "output_type": "stream",
     "text": [
      "defining class Language\n"
     ]
    }
   ],
   "source": [
    "class LangMeta(type):\n",
    "    def __new__(cls, name, bases, attrs):\n",
    "        instance = super().__new__(cls, name, bases, attrs)\n",
    "        print('defining class \"{}\"'.format(name))\n",
    "        more_bunch = {}\n",
    "        for name, val in attrs.items():\n",
    "            shared_slot = getattr(val, 'shared_slot', None)\n",
    "            if shared_slot is not None:\n",
    "                print('found something!')\n",
    "                more_bunch[shared_slot] = val\n",
    "        instance.bunch = {**instance.bunch, **more_bunch}\n",
    "        return instance\n",
    "\n",
    "\n",
    "class Language(metaclass=LangMeta):\n",
    "    # current implementation relies on this attribute being at least present\n",
    "    bunch = {None: lambda: print('dummy')}\n",
    "\n",
    "l = Language()\n",
    "\n",
    "l.bunch"
   ]
  },
  {
   "cell_type": "markdown",
   "metadata": {},
   "source": [
    "## Works with inheritance!"
   ]
  },
  {
   "cell_type": "code",
   "execution_count": 20,
   "metadata": {},
   "outputs": [
    {
     "name": "stdout",
     "output_type": "stream",
     "text": [
      "defining class Clingon\n",
      "found something!\n"
     ]
    },
    {
     "data": {
      "text/plain": [
       "{None: <function __main__.Language.<lambda>()>,\n",
       " 'foo': <function __main__.Clingon.funky(self)>}"
      ]
     },
     "execution_count": 20,
     "metadata": {},
     "output_type": "execute_result"
    }
   ],
   "source": [
    "class Clingon(Language):\n",
    "    \n",
    "    @shared_slot('foo')\n",
    "    def funky(self):\n",
    "        return \"hello!\"\n",
    "\n",
    "c = Clingon()\n",
    "\n",
    "c.bunch"
   ]
  },
  {
   "cell_type": "markdown",
   "metadata": {},
   "source": [
    "### If we make it a class attribute, all instances will see updates to it!"
   ]
  },
  {
   "cell_type": "code",
   "execution_count": 22,
   "metadata": {},
   "outputs": [
    {
     "data": {
      "text/plain": [
       "{None: <function __main__.Language.<lambda>()>,\n",
       " 'foo': <function __main__.Clingon.funky(self)>,\n",
       " 'test-me': None}"
      ]
     },
     "execution_count": 22,
     "metadata": {},
     "output_type": "execute_result"
    }
   ],
   "source": [
    "c2 = Clingon()\n",
    "\n",
    "c2.bunch['test-me'] = None\n",
    "\n",
    "c2.bunch"
   ]
  },
  {
   "cell_type": "code",
   "execution_count": 23,
   "metadata": {},
   "outputs": [
    {
     "data": {
      "text/plain": [
       "{None: <function __main__.Language.<lambda>()>,\n",
       " 'foo': <function __main__.Clingon.funky(self)>,\n",
       " 'test-me': None}"
      ]
     },
     "execution_count": 23,
     "metadata": {},
     "output_type": "execute_result"
    }
   ],
   "source": [
    "c.bunch"
   ]
  },
  {
   "cell_type": "code",
   "execution_count": 30,
   "metadata": {},
   "outputs": [
    {
     "data": {
      "text/plain": [
       "{None: <function __main__.Language.<lambda>()>,\n",
       " 'foo': <function __main__.Clingon.funky(self)>,\n",
       " 'test-me': None}"
      ]
     },
     "execution_count": 30,
     "metadata": {},
     "output_type": "execute_result"
    }
   ],
   "source": [
    "c3 = Clingon()\n",
    "c3.bunch"
   ]
  },
  {
   "cell_type": "markdown",
   "metadata": {},
   "source": [
    "At the same time note that `Language.bunch` should not change!"
   ]
  },
  {
   "cell_type": "code",
   "execution_count": 24,
   "metadata": {},
   "outputs": [
    {
     "data": {
      "text/plain": [
       "{None: <function __main__.Language.<lambda>()>}"
      ]
     },
     "execution_count": 24,
     "metadata": {},
     "output_type": "execute_result"
    }
   ],
   "source": [
    "l.bunch"
   ]
  },
  {
   "cell_type": "markdown",
   "metadata": {},
   "source": [
    "## Deeper Inheritance"
   ]
  },
  {
   "cell_type": "code",
   "execution_count": 26,
   "metadata": {},
   "outputs": [
    {
     "name": "stdout",
     "output_type": "stream",
     "text": [
      "defining class ClingonDialect\n",
      "found something!\n"
     ]
    }
   ],
   "source": [
    "class ClingonDialect(Clingon):\n",
    "    \n",
    "    @shared_slot('test')\n",
    "    def jazz(self):\n",
    "        print('world!')"
   ]
  },
  {
   "cell_type": "code",
   "execution_count": 27,
   "metadata": {},
   "outputs": [],
   "source": [
    "x = ClingonDialect()"
   ]
  },
  {
   "cell_type": "code",
   "execution_count": 28,
   "metadata": {},
   "outputs": [
    {
     "data": {
      "text/plain": [
       "{None: <function __main__.Language.<lambda>()>,\n",
       " 'foo': <function __main__.Clingon.funky(self)>,\n",
       " 'test-me': None,\n",
       " 'test': <function __main__.ClingonDialect.jazz(self)>}"
      ]
     },
     "execution_count": 28,
     "metadata": {},
     "output_type": "execute_result"
    }
   ],
   "source": [
    "x.bunch"
   ]
  },
  {
   "cell_type": "code",
   "execution_count": 29,
   "metadata": {},
   "outputs": [
    {
     "data": {
      "text/plain": [
       "{None: <function __main__.Language.<lambda>()>}"
      ]
     },
     "execution_count": 29,
     "metadata": {},
     "output_type": "execute_result"
    }
   ],
   "source": [
    "l2 = Language()\n",
    "l2.bunch"
   ]
  }
 ],
 "metadata": {
  "kernelspec": {
   "display_name": "Python 3",
   "language": "python",
   "name": "python3"
  },
  "language_info": {
   "codemirror_mode": {
    "name": "ipython",
    "version": 3
   },
   "file_extension": ".py",
   "mimetype": "text/x-python",
   "name": "python",
   "nbconvert_exporter": "python",
   "pygments_lexer": "ipython3",
   "version": "3.6.3"
  }
 },
 "nbformat": 4,
 "nbformat_minor": 2
}
