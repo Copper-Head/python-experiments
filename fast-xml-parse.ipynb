{
 "cells": [
  {
   "cell_type": "code",
   "execution_count": 1,
   "metadata": {},
   "outputs": [
    {
     "name": "stdout",
     "output_type": "stream",
     "text": [
      "Collecting lxml\n",
      "\u001b[33m  Cache entry deserialization failed, entry ignored\u001b[0m\n",
      "  Downloading https://files.pythonhosted.org/packages/eb/59/1db3c9c27049e4f832691c6d642df1f5b64763f73942172c44fee22de397/lxml-4.2.4-cp36-cp36m-manylinux1_x86_64.whl (5.8MB)\n",
      "\u001b[K    100% |████████████████████████████████| 5.8MB 211kB/s ta 0:00:011\n",
      "\u001b[?25hInstalling collected packages: lxml\n",
      "Successfully installed lxml-4.2.4\n",
      "\u001b[33mYou are using pip version 9.0.1, however version 18.0 is available.\n",
      "You should consider upgrading via the 'pip install --upgrade pip' command.\u001b[0m\n"
     ]
    }
   ],
   "source": [
    "! pip install lxml"
   ]
  },
  {
   "cell_type": "code",
   "execution_count": 2,
   "metadata": {},
   "outputs": [],
   "source": [
    "import lxml.etree as ET"
   ]
  },
  {
   "cell_type": "code",
   "execution_count": 10,
   "metadata": {},
   "outputs": [],
   "source": [
    "def fast_parse(fname):\n",
    "    for event, element in ET.iterparse(fname):\n",
    "        print(\"before yielding\")\n",
    "        yield event, element\n",
    "        print(\"after yielding, not cleared\")\n",
    "        element.clear()\n",
    "        print(\"cleared after yielding\")"
   ]
  },
  {
   "cell_type": "code",
   "execution_count": 23,
   "metadata": {},
   "outputs": [],
   "source": [
    "def checker(element):\n",
    "    print(\"checking\", element)\n",
    "    print(element.tag)\n",
    "    return True\n",
    "\n",
    "def proc(element):\n",
    "    print('processing', element)\n",
    "    print(element.tag)\n",
    "    return None"
   ]
  },
  {
   "cell_type": "code",
   "execution_count": 24,
   "metadata": {},
   "outputs": [],
   "source": [
    "from more_itertools import take"
   ]
  },
  {
   "cell_type": "code",
   "execution_count": 25,
   "metadata": {},
   "outputs": [],
   "source": [
    "xml_dump = \"/home/quickbeam/Downloads/nlwiktionary-20180820-pages-articles-multistream.xml\""
   ]
  },
  {
   "cell_type": "code",
   "execution_count": 26,
   "metadata": {},
   "outputs": [
    {
     "name": "stdout",
     "output_type": "stream",
     "text": [
      "before yielding\n",
      "checking <Element {http://www.mediawiki.org/xml/export-0.10/}sitename at 0x7f0206fa7308>\n",
      "{http://www.mediawiki.org/xml/export-0.10/}sitename\n",
      "processing <Element {http://www.mediawiki.org/xml/export-0.10/}sitename at 0x7f0206fa7308>\n",
      "{http://www.mediawiki.org/xml/export-0.10/}sitename\n",
      "after yielding, not cleared\n",
      "cleared after yielding\n",
      "before yielding\n",
      "checking <Element {http://www.mediawiki.org/xml/export-0.10/}dbname at 0x7f0206fa7288>\n",
      "{http://www.mediawiki.org/xml/export-0.10/}dbname\n",
      "processing <Element {http://www.mediawiki.org/xml/export-0.10/}dbname at 0x7f0206fa7288>\n",
      "{http://www.mediawiki.org/xml/export-0.10/}dbname\n",
      "after yielding, not cleared\n",
      "cleared after yielding\n",
      "before yielding\n",
      "checking <Element {http://www.mediawiki.org/xml/export-0.10/}base at 0x7f0206fa7208>\n",
      "{http://www.mediawiki.org/xml/export-0.10/}base\n",
      "processing <Element {http://www.mediawiki.org/xml/export-0.10/}base at 0x7f0206fa7208>\n",
      "{http://www.mediawiki.org/xml/export-0.10/}base\n",
      "after yielding, not cleared\n",
      "cleared after yielding\n",
      "before yielding\n",
      "checking <Element {http://www.mediawiki.org/xml/export-0.10/}generator at 0x7f020701ba08>\n",
      "{http://www.mediawiki.org/xml/export-0.10/}generator\n",
      "processing <Element {http://www.mediawiki.org/xml/export-0.10/}generator at 0x7f020701ba08>\n",
      "{http://www.mediawiki.org/xml/export-0.10/}generator\n",
      "after yielding, not cleared\n",
      "cleared after yielding\n",
      "before yielding\n",
      "checking <Element {http://www.mediawiki.org/xml/export-0.10/}case at 0x7f020701b908>\n",
      "{http://www.mediawiki.org/xml/export-0.10/}case\n",
      "processing <Element {http://www.mediawiki.org/xml/export-0.10/}case at 0x7f020701b908>\n",
      "{http://www.mediawiki.org/xml/export-0.10/}case\n",
      "after yielding, not cleared\n",
      "cleared after yielding\n",
      "before yielding\n",
      "checking <Element {http://www.mediawiki.org/xml/export-0.10/}namespace at 0x7f020701bdc8>\n",
      "{http://www.mediawiki.org/xml/export-0.10/}namespace\n",
      "processing <Element {http://www.mediawiki.org/xml/export-0.10/}namespace at 0x7f020701bdc8>\n",
      "{http://www.mediawiki.org/xml/export-0.10/}namespace\n",
      "after yielding, not cleared\n",
      "cleared after yielding\n",
      "before yielding\n",
      "checking <Element {http://www.mediawiki.org/xml/export-0.10/}namespace at 0x7f020701be48>\n",
      "{http://www.mediawiki.org/xml/export-0.10/}namespace\n",
      "processing <Element {http://www.mediawiki.org/xml/export-0.10/}namespace at 0x7f020701be48>\n",
      "{http://www.mediawiki.org/xml/export-0.10/}namespace\n",
      "after yielding, not cleared\n",
      "cleared after yielding\n",
      "before yielding\n",
      "checking <Element {http://www.mediawiki.org/xml/export-0.10/}namespace at 0x7f020701b988>\n",
      "{http://www.mediawiki.org/xml/export-0.10/}namespace\n",
      "processing <Element {http://www.mediawiki.org/xml/export-0.10/}namespace at 0x7f020701b988>\n",
      "{http://www.mediawiki.org/xml/export-0.10/}namespace\n",
      "after yielding, not cleared\n",
      "cleared after yielding\n",
      "before yielding\n",
      "checking <Element {http://www.mediawiki.org/xml/export-0.10/}namespace at 0x7f020701b708>\n",
      "{http://www.mediawiki.org/xml/export-0.10/}namespace\n",
      "processing <Element {http://www.mediawiki.org/xml/export-0.10/}namespace at 0x7f020701b708>\n",
      "{http://www.mediawiki.org/xml/export-0.10/}namespace\n",
      "after yielding, not cleared\n",
      "cleared after yielding\n",
      "before yielding\n",
      "checking <Element {http://www.mediawiki.org/xml/export-0.10/}namespace at 0x7f020701bd08>\n",
      "{http://www.mediawiki.org/xml/export-0.10/}namespace\n",
      "processing <Element {http://www.mediawiki.org/xml/export-0.10/}namespace at 0x7f020701bd08>\n",
      "{http://www.mediawiki.org/xml/export-0.10/}namespace\n"
     ]
    },
    {
     "data": {
      "text/plain": [
       "[None, None, None, None, None, None, None, None, None, None]"
      ]
     },
     "execution_count": 26,
     "metadata": {},
     "output_type": "execute_result"
    }
   ],
   "source": [
    "list(take(10, (proc(el) for _, el in fast_parse(xml_dump) if checker(el))))"
   ]
  },
  {
   "cell_type": "code",
   "execution_count": 19,
   "metadata": {},
   "outputs": [],
   "source": [
    "gen = fast_parse(xml_dump)"
   ]
  },
  {
   "cell_type": "code",
   "execution_count": 16,
   "metadata": {},
   "outputs": [
    {
     "name": "stdout",
     "output_type": "stream",
     "text": [
      "after yielding, not cleared\n",
      "cleared after yielding\n",
      "before yielding\n",
      "processing ('end', <Element {http://www.mediawiki.org/xml/export-0.10/}base at 0x7f0206ff5748>)\n"
     ]
    }
   ],
   "source": [
    "proc(next(gen))"
   ]
  },
  {
   "cell_type": "code",
   "execution_count": null,
   "metadata": {},
   "outputs": [],
   "source": []
  }
 ],
 "metadata": {
  "kernelspec": {
   "display_name": "Python 3",
   "language": "python",
   "name": "python3"
  },
  "language_info": {
   "codemirror_mode": {
    "name": "ipython",
    "version": 3
   },
   "file_extension": ".py",
   "mimetype": "text/x-python",
   "name": "python",
   "nbconvert_exporter": "python",
   "pygments_lexer": "ipython3",
   "version": "3.6.4"
  }
 },
 "nbformat": 4,
 "nbformat_minor": 2
}
